{
 "cells": [
  {
   "cell_type": "markdown",
   "id": "b4fb9dc0-687a-4843-96c5-ff904ca5e2e5",
   "metadata": {
    "tags": []
   },
   "source": [
    "# **SA on TINTIN Corpus: Data Preprocessing**"
   ]
  },
  {
   "cell_type": "markdown",
   "id": "ab51dbab-e1e2-4a19-bbfe-ffd5267ccca0",
   "metadata": {
    "tags": []
   },
   "source": [
    "## **Data Preprocessing**"
   ]
  },
  {
   "cell_type": "code",
   "execution_count": 1,
   "id": "dcb9a561-2403-4991-8d8e-3a7c9258fbf3",
   "metadata": {
    "tags": []
   },
   "outputs": [],
   "source": [
    "import pandas as pd # importing pandas library"
   ]
  },
  {
   "cell_type": "code",
   "execution_count": 2,
   "id": "dca36d61-2413-425a-9359-9b1feea1c03b",
   "metadata": {
    "tags": []
   },
   "outputs": [],
   "source": [
    "df0 = pd.read_csv('/Users/zhouxiaoyu/desktop/tintin/origin.csv')"
   ]
  },
  {
   "cell_type": "code",
   "execution_count": 3,
   "id": "c28a668e-13cc-4b02-87ac-70268c2efece",
   "metadata": {
    "tags": []
   },
   "outputs": [],
   "source": [
    "df2 = pd.read_csv('/Users/zhouxiaoyu/desktop/tintin/mast.csv')"
   ]
  },
  {
   "cell_type": "code",
   "execution_count": 6,
   "id": "cc2127ca-e9fe-464f-93fd-6ed12ec4c918",
   "metadata": {
    "tags": []
   },
   "outputs": [
    {
     "name": "stderr",
     "output_type": "stream",
     "text": [
      "/var/folders/qr/80cgq6_d629dw28l_btkrpq80000gn/T/ipykernel_6796/3572649472.py:1: DtypeWarning: Columns (12) have mixed types. Specify dtype option on import or set low_memory=False.\n",
      "  df1 = pd.read_csv('/Users/zhouxiaoyu/desktop/tintin/framing.csv', dtype={'Column12': str})\n"
     ]
    }
   ],
   "source": [
    "df1 = pd.read_csv('/Users/zhouxiaoyu/desktop/tintin/framing.csv', dtype={'Column12': str})"
   ]
  },
  {
   "cell_type": "code",
   "execution_count": 9,
   "id": "468aaba2-7d19-4633-8aa8-191f90444e03",
   "metadata": {
    "tags": []
   },
   "outputs": [],
   "source": [
    "df1.drop(columns=['Annotation Notes'], inplace=True)"
   ]
  },
  {
   "cell_type": "code",
   "execution_count": 11,
   "id": "48f44018-b1a2-4a02-8231-f21b2e1ecfef",
   "metadata": {
    "tags": []
   },
   "outputs": [
    {
     "name": "stdout",
     "output_type": "stream",
     "text": [
      "<class 'pandas.core.frame.DataFrame'>\n",
      "RangeIndex: 75823 entries, 0 to 75822\n",
      "Data columns (total 14 columns):\n",
      " #   Column                Non-Null Count  Dtype  \n",
      "---  ------                --------------  -----  \n",
      " 0   Project ID            75823 non-null  int64  \n",
      " 1   Project Name          75823 non-null  object \n",
      " 2   Document Name         75823 non-null  object \n",
      " 3   Document Directory    75823 non-null  object \n",
      " 4   Document Description  75823 non-null  object \n",
      " 5   Page Number           75823 non-null  int64  \n",
      " 6   Region ID             75823 non-null  int64  \n",
      " 7   Region Type           75823 non-null  object \n",
      " 8   Region Vertices       75823 non-null  object \n",
      " 9   Region Area           75823 non-null  float64\n",
      " 10  Annotation ID         75823 non-null  int64  \n",
      " 11  Taxonomy Path         75823 non-null  object \n",
      " 12  Page Area             75823 non-null  int64  \n",
      " 13  Relative Area(%)      75823 non-null  float64\n",
      "dtypes: float64(2), int64(5), object(7)\n",
      "memory usage: 8.1+ MB\n",
      "None\n"
     ]
    }
   ],
   "source": [
    "print(df1.info())"
   ]
  },
  {
   "cell_type": "code",
   "execution_count": 12,
   "id": "99fd428a-a61e-455f-8c95-2156dee1f93a",
   "metadata": {
    "tags": []
   },
   "outputs": [
    {
     "name": "stdout",
     "output_type": "stream",
     "text": [
      "Number of duplicate 'Region ID' entries: 3\n",
      "Number of missing 'Valence#' values: 0\n",
      "Number of missing 'Arousal' values: 22\n",
      "Number of 'Valence#' values that are neither integers nor one decimal place: 0\n",
      "Number of 'Valence#' values outside the range [-1, 1]: 0\n",
      "Number of 'Arousal' values outside the range [1, 5]: 0\n"
     ]
    }
   ],
   "source": [
    "# 1. Check for duplicates in the 'Region ID' column\n",
    "region_id_duplicates = df0['Region ID'].duplicated().sum()\n",
    "print(f\"Number of duplicate 'Region ID' entries: {region_id_duplicates}\")\n",
    "\n",
    "# 2. Check for missing values in 'Valence#' and 'Arousal'\n",
    "valence_missing = df0['Valence#'].isnull().sum()\n",
    "arousal_missing = df0['Arousal'].isnull().sum()\n",
    "\n",
    "print(f\"Number of missing 'Valence#' values: {valence_missing}\")\n",
    "print(f\"Number of missing 'Arousal' values: {arousal_missing}\")\n",
    "\n",
    "# 3. Check for 'Valence#' values that are neither integers nor one decimal place\n",
    "valence_invalid = df0['Valence#'].apply(lambda x: not (x.is_integer() or round(x, 1) == x)).sum()\n",
    "print(f\"Number of 'Valence#' values that are neither integers nor one decimal place: {valence_invalid}\")\n",
    "\n",
    "# 4. Check for 'Valence#' values greater than 1 or less than -1\n",
    "valence_out_of_bounds = df0[(df0['Valence#'] > 1) | (df0['Valence#'] < -1)]\n",
    "print(f\"Number of 'Valence#' values outside the range [-1, 1]: {valence_out_of_bounds.shape[0]}\")\n",
    "\n",
    "# 5. Check for 'Arousal' values greater than 5 or less than 1\n",
    "arousal_out_of_bounds = df0[(df0['Arousal'] > 5) | (df0['Arousal'] < 1)]\n",
    "print(f\"Number of 'Arousal' values outside the range [1, 5]: {arousal_out_of_bounds.shape[0]}\")"
   ]
  },
  {
   "cell_type": "code",
   "execution_count": 13,
   "id": "47f3f500-7c3c-4651-b83b-ba1f06043bc4",
   "metadata": {
    "tags": []
   },
   "outputs": [
    {
     "name": "stdout",
     "output_type": "stream",
     "text": [
      "<class 'pandas.core.frame.DataFrame'>\n",
      "Int64Index: 59736 entries, 0 to 59760\n",
      "Data columns (total 43 columns):\n",
      " #   Column                 Non-Null Count  Dtype  \n",
      "---  ------                 --------------  -----  \n",
      " 0   Project ID             59736 non-null  int64  \n",
      " 1   Project Name           59736 non-null  object \n",
      " 2   Document Name          59736 non-null  object \n",
      " 3   Global Region          59736 non-null  object \n",
      " 4   RegionSimplified       59736 non-null  object \n",
      " 5   Country                59736 non-null  object \n",
      " 6   Document Name.1        59736 non-null  object \n",
      " 7   Publication Date       59736 non-null  int64  \n",
      " 8   Publisher              53252 non-null  object \n",
      " 9   Format                 59736 non-null  object \n",
      " 10  CountryLang            59736 non-null  object \n",
      " 11  LanguageFinal          59736 non-null  object \n",
      " 12  Silent?                9118 non-null   object \n",
      " 13  Genre Simplified       58155 non-null  object \n",
      " 14  StyleDetail            59736 non-null  object \n",
      " 15  StyleBroad             59736 non-null  object \n",
      " 16  Audience               52300 non-null  object \n",
      " 17  Document Directory     59736 non-null  object \n",
      " 18  Page Number            59736 non-null  int64  \n",
      " 19  PageOrdinal            59736 non-null  int64  \n",
      " 20  Panel#                 59735 non-null  float64\n",
      " 21  ComicPanel#            59736 non-null  int64  \n",
      " 22  TotalPanels            59736 non-null  int64  \n",
      " 23  OrdinalPanel%          59736 non-null  float64\n",
      " 24  OrdinalPanel%Rounded2  59736 non-null  float64\n",
      " 25  Region ID              59736 non-null  int64  \n",
      " 26  Region Type            59736 non-null  object \n",
      " 27  Region Vertices        59736 non-null  object \n",
      " 28  Region Area            59736 non-null  float64\n",
      " 29  Annotation ID          59736 non-null  int64  \n",
      " 30  Taxonomy Path          59736 non-null  object \n",
      " 31  Page Area              59736 non-null  int64  \n",
      " 32  Relative Area(%)       59736 non-null  float64\n",
      " 33  Counter                59736 non-null  int64  \n",
      " 34  color                  59402 non-null  object \n",
      " 35  color.1                59402 non-null  float64\n",
      " 36  intensity              59402 non-null  float64\n",
      " 37  saturation             59402 non-null  float64\n",
      " 38  hue                    59402 non-null  float64\n",
      " 39  ValenceCAT             59736 non-null  object \n",
      " 40  Valence#               59736 non-null  float64\n",
      " 41  Valence#ABS            59736 non-null  float64\n",
      " 42  Arousal                59736 non-null  float64\n",
      "dtypes: float64(12), int64(10), object(21)\n",
      "memory usage: 20.1+ MB\n",
      "None\n"
     ]
    }
   ],
   "source": [
    "# 1. Remove rows with duplicate 'Region ID', keeping only the first occurrence\n",
    "df_cleaned = df0.drop_duplicates(subset='Region ID', keep='first')\n",
    "\n",
    "# 2. Remove rows with missing 'Arousal' values\n",
    "df_cleaned = df_cleaned.dropna(subset=['Arousal'])\n",
    "\n",
    "# Display the information of the cleaned DataFrame\n",
    "print(df_cleaned.info())\n",
    "\n",
    "# Save the cleaned DataFrame to a new CSV file\n",
    "df_cleaned.to_csv('/Users/zhouxiaoyu/desktop/tintin/cleaned_origin.csv', index=False)"
   ]
  },
  {
   "cell_type": "code",
   "execution_count": 14,
   "id": "3725dca8-14b4-47c2-9f02-b0019faf27b0",
   "metadata": {
    "tags": []
   },
   "outputs": [
    {
     "name": "stdout",
     "output_type": "stream",
     "text": [
      "<class 'pandas.core.frame.DataFrame'>\n",
      "Int64Index: 59736 entries, 0 to 59760\n",
      "Data columns (total 43 columns):\n",
      " #   Column                 Non-Null Count  Dtype  \n",
      "---  ------                 --------------  -----  \n",
      " 0   Project ID             59736 non-null  int64  \n",
      " 1   Project Name           59736 non-null  object \n",
      " 2   Document Name          59736 non-null  object \n",
      " 3   Global Region          59736 non-null  object \n",
      " 4   RegionSimplified       59736 non-null  object \n",
      " 5   Country                59736 non-null  object \n",
      " 6   Document Name.1        59736 non-null  object \n",
      " 7   Publication Date       59736 non-null  int64  \n",
      " 8   Publisher              53252 non-null  object \n",
      " 9   Format                 59736 non-null  object \n",
      " 10  CountryLang            59736 non-null  object \n",
      " 11  LanguageFinal          59736 non-null  object \n",
      " 12  Silent?                9118 non-null   object \n",
      " 13  Genre Simplified       58155 non-null  object \n",
      " 14  StyleDetail            59736 non-null  object \n",
      " 15  StyleBroad             59736 non-null  object \n",
      " 16  Audience               52300 non-null  object \n",
      " 17  Document Directory     59736 non-null  object \n",
      " 18  Page Number            59736 non-null  int64  \n",
      " 19  PageOrdinal            59736 non-null  int64  \n",
      " 20  Panel#                 59735 non-null  float64\n",
      " 21  ComicPanel#            59736 non-null  int64  \n",
      " 22  TotalPanels            59736 non-null  int64  \n",
      " 23  OrdinalPanel%          59736 non-null  float64\n",
      " 24  OrdinalPanel%Rounded2  59736 non-null  float64\n",
      " 25  Region ID              59736 non-null  int64  \n",
      " 26  Region Type            59736 non-null  object \n",
      " 27  Region Vertices        59736 non-null  object \n",
      " 28  Region Area            59736 non-null  float64\n",
      " 29  Annotation ID          59736 non-null  int64  \n",
      " 30  Taxonomy Path          59736 non-null  object \n",
      " 31  Page Area              59736 non-null  int64  \n",
      " 32  Relative Area(%)       59736 non-null  float64\n",
      " 33  Counter                59736 non-null  int64  \n",
      " 34  color                  59402 non-null  object \n",
      " 35  color.1                59402 non-null  float64\n",
      " 36  intensity              59402 non-null  float64\n",
      " 37  saturation             59402 non-null  float64\n",
      " 38  hue                    59402 non-null  float64\n",
      " 39  ValenceCAT             59736 non-null  object \n",
      " 40  Valence#               59736 non-null  float64\n",
      " 41  Valence#ABS            59736 non-null  float64\n",
      " 42  Arousal                59736 non-null  float64\n",
      "dtypes: float64(12), int64(10), object(21)\n",
      "memory usage: 20.1+ MB\n",
      "None\n"
     ]
    }
   ],
   "source": [
    "# 1. Remove rows with duplicate 'Region ID', keeping only the first occurrence\n",
    "df_cleaned = df0.drop_duplicates(subset='Region ID', keep='first')\n",
    "\n",
    "# 2. Remove rows with missing 'Arousal' values\n",
    "df_cleaned = df_cleaned.dropna(subset=['Arousal'])\n",
    "\n",
    "# Display the information of the cleaned DataFrame\n",
    "print(df_cleaned.info())\n",
    "\n",
    "# Save the cleaned DataFrame to a new CSV file\n",
    "df_cleaned.to_csv('/Users/zhouxiaoyu/desktop/tintin/cleaned_origin.csv', index=False)"
   ]
  },
  {
   "cell_type": "code",
   "execution_count": 15,
   "id": "9c73fc01-dd14-486c-bcc0-9a6768ec2b00",
   "metadata": {
    "tags": []
   },
   "outputs": [
    {
     "name": "stdout",
     "output_type": "stream",
     "text": [
      "<class 'pandas.core.frame.DataFrame'>\n",
      "RangeIndex: 75823 entries, 0 to 75822\n",
      "Data columns (total 14 columns):\n",
      " #   Column                Non-Null Count  Dtype  \n",
      "---  ------                --------------  -----  \n",
      " 0   Project ID            75823 non-null  int64  \n",
      " 1   Project Name          75823 non-null  object \n",
      " 2   Document Name         75823 non-null  object \n",
      " 3   Document Directory    75823 non-null  object \n",
      " 4   Document Description  75823 non-null  object \n",
      " 5   Page Number           75823 non-null  int64  \n",
      " 6   Region ID             75823 non-null  int64  \n",
      " 7   Region Type           75823 non-null  object \n",
      " 8   Region Vertices       75823 non-null  object \n",
      " 9   Region Area           75823 non-null  float64\n",
      " 10  Annotation ID         75823 non-null  int64  \n",
      " 11  Taxonomy Path         75823 non-null  object \n",
      " 12  Page Area             75823 non-null  int64  \n",
      " 13  Relative Area(%)      75823 non-null  float64\n",
      "dtypes: float64(2), int64(5), object(7)\n",
      "memory usage: 8.1+ MB\n",
      "None\n"
     ]
    }
   ],
   "source": [
    "print(df1.info())"
   ]
  },
  {
   "cell_type": "code",
   "execution_count": 16,
   "id": "6145089c-60c8-4269-a276-4ba757f05d69",
   "metadata": {
    "tags": []
   },
   "outputs": [
    {
     "name": "stdout",
     "output_type": "stream",
     "text": [
      "Number of duplicate 'Region ID' entries in df1: 20\n",
      "<class 'pandas.core.frame.DataFrame'>\n",
      "RangeIndex: 75823 entries, 0 to 75822\n",
      "Data columns (total 14 columns):\n",
      " #   Column                Non-Null Count  Dtype  \n",
      "---  ------                --------------  -----  \n",
      " 0   Project ID            75823 non-null  int64  \n",
      " 1   Project Name          75823 non-null  object \n",
      " 2   Document Name         75823 non-null  object \n",
      " 3   Document Directory    75823 non-null  object \n",
      " 4   Document Description  75823 non-null  object \n",
      " 5   Page Number           75823 non-null  int64  \n",
      " 6   Region ID             75823 non-null  int64  \n",
      " 7   Region Type           75823 non-null  object \n",
      " 8   Region Vertices       75823 non-null  object \n",
      " 9   Region Area           75823 non-null  float64\n",
      " 10  Annotation ID         75823 non-null  int64  \n",
      " 11  Framing               75823 non-null  object \n",
      " 12  Page Area             75823 non-null  int64  \n",
      " 13  Relative Area(%)      75823 non-null  float64\n",
      "dtypes: float64(2), int64(5), object(7)\n",
      "memory usage: 8.1+ MB\n",
      "None\n"
     ]
    }
   ],
   "source": [
    "# 1. Check for duplicates in the 'Region ID' column\n",
    "region_id_duplicates = df1['Region ID'].duplicated().sum()\n",
    "print(f\"Number of duplicate 'Region ID' entries in df1: {region_id_duplicates}\")\n",
    "\n",
    "# 2. Simplify 'Taxonomy Path' column name and content\n",
    "# Rename 'Taxonomy Path' to 'Framing'\n",
    "df1.rename(columns={'Taxonomy Path': 'Framing'}, inplace=True)\n",
    "\n",
    "# Simplify 'Framing' column to retain only the information after the last '/'\n",
    "df1['Framing'] = df1['Framing'].apply(lambda x: x.split('/')[-1].strip())\n",
    "\n",
    "# Display the cleaned DataFrame information\n",
    "print(df1.info())"
   ]
  },
  {
   "cell_type": "code",
   "execution_count": 17,
   "id": "d85ab5b6-b2cc-4d98-b9c4-3cae4b4e0f0e",
   "metadata": {
    "tags": []
   },
   "outputs": [
    {
     "name": "stdout",
     "output_type": "stream",
     "text": [
      "Number of duplicate 'Region ID' entries in df1: 20\n",
      "<class 'pandas.core.frame.DataFrame'>\n",
      "RangeIndex: 75823 entries, 0 to 75822\n",
      "Data columns (total 14 columns):\n",
      " #   Column                Non-Null Count  Dtype  \n",
      "---  ------                --------------  -----  \n",
      " 0   Project ID            75823 non-null  int64  \n",
      " 1   Project Name          75823 non-null  object \n",
      " 2   Document Name         75823 non-null  object \n",
      " 3   Document Directory    75823 non-null  object \n",
      " 4   Document Description  75823 non-null  object \n",
      " 5   Page Number           75823 non-null  int64  \n",
      " 6   Region ID             75823 non-null  int64  \n",
      " 7   Region Type           75823 non-null  object \n",
      " 8   Region Vertices       75823 non-null  object \n",
      " 9   Region Area           75823 non-null  float64\n",
      " 10  Annotation ID         75823 non-null  int64  \n",
      " 11  Framing               75823 non-null  object \n",
      " 12  Page Area             75823 non-null  int64  \n",
      " 13  Relative Area(%)      75823 non-null  float64\n",
      "dtypes: float64(2), int64(5), object(7)\n",
      "memory usage: 8.1+ MB\n",
      "None\n"
     ]
    }
   ],
   "source": [
    "df1 = pd.read_csv('/Users/zhouxiaoyu/desktop/tintin/framing.csv', usecols=lambda x: x != 'Unnamed: 11', low_memory=False)\n",
    "\n",
    "# 1. Check for duplicates in the 'Region ID' column\n",
    "region_id_duplicates = df1['Region ID'].duplicated().sum()\n",
    "print(f\"Number of duplicate 'Region ID' entries in df1: {region_id_duplicates}\")\n",
    "\n",
    "# 2. Simplify 'Taxonomy Path' column name and content\n",
    "# Rename 'Taxonomy Path' to 'Framing'\n",
    "df1.rename(columns={'Taxonomy Path': 'Framing'}, inplace=True)\n",
    "\n",
    "# Simplify 'Framing' column to retain only the information after the last '/'\n",
    "df1['Framing'] = df1['Framing'].apply(lambda x: x.split('/')[-1].strip())\n",
    "\n",
    "# Remove the 12th column (0-indexed as 11th) 'Annotation Notes'\n",
    "df1.drop(columns=['Annotation Notes'], inplace=True)\n",
    "\n",
    "# Display the cleaned DataFrame information\n",
    "print(df1.info())"
   ]
  },
  {
   "cell_type": "code",
   "execution_count": 19,
   "id": "bde2b5df-e8e4-42e6-8371-a2bf5180dcec",
   "metadata": {
    "tags": []
   },
   "outputs": [],
   "source": [
    "# save the modified DataFrame to a new CSV file\n",
    "df1.to_csv('/Users/zhouxiaoyu/desktop/tintin/cleaned_framing.csv')"
   ]
  },
  {
   "cell_type": "code",
   "execution_count": 20,
   "id": "6605427c-3cfb-4613-a400-55fb80ee31f3",
   "metadata": {
    "tags": []
   },
   "outputs": [],
   "source": [
    "df_cleaned_origin = pd.read_csv('/Users/zhouxiaoyu/desktop/tintin/cleaned_origin.csv')\n",
    "df_cleaned_framing = pd.read_csv('/Users/zhouxiaoyu/desktop/tintin/cleaned_framing.csv')"
   ]
  },
  {
   "cell_type": "code",
   "execution_count": 21,
   "id": "75cce056-a883-493e-9f71-efb89677a89f",
   "metadata": {
    "tags": []
   },
   "outputs": [
    {
     "name": "stdout",
     "output_type": "stream",
     "text": [
      "<class 'pandas.core.frame.DataFrame'>\n",
      "Int64Index: 59754 entries, 0 to 59753\n",
      "Data columns (total 44 columns):\n",
      " #   Column                 Non-Null Count  Dtype  \n",
      "---  ------                 --------------  -----  \n",
      " 0   Project ID             59754 non-null  int64  \n",
      " 1   Project Name           59754 non-null  object \n",
      " 2   Document Name          59754 non-null  object \n",
      " 3   Global Region          59754 non-null  object \n",
      " 4   RegionSimplified       59754 non-null  object \n",
      " 5   Country                59754 non-null  object \n",
      " 6   Document Name.1        59754 non-null  object \n",
      " 7   Publication Date       59754 non-null  int64  \n",
      " 8   Publisher              53266 non-null  object \n",
      " 9   Format                 59754 non-null  object \n",
      " 10  CountryLang            59754 non-null  object \n",
      " 11  LanguageFinal          59754 non-null  object \n",
      " 12  Silent?                9120 non-null   object \n",
      " 13  Genre Simplified       58172 non-null  object \n",
      " 14  StyleDetail            59754 non-null  object \n",
      " 15  StyleBroad             59754 non-null  object \n",
      " 16  Audience               52316 non-null  object \n",
      " 17  Document Directory     59754 non-null  object \n",
      " 18  Page Number            59754 non-null  int64  \n",
      " 19  PageOrdinal            59754 non-null  int64  \n",
      " 20  Panel#                 59753 non-null  float64\n",
      " 21  ComicPanel#            59754 non-null  int64  \n",
      " 22  TotalPanels            59754 non-null  int64  \n",
      " 23  OrdinalPanel%          59754 non-null  float64\n",
      " 24  OrdinalPanel%Rounded2  59754 non-null  float64\n",
      " 25  Region ID              59754 non-null  int64  \n",
      " 26  Region Type            59754 non-null  object \n",
      " 27  Region Vertices        59754 non-null  object \n",
      " 28  Region Area            59754 non-null  float64\n",
      " 29  Annotation ID          59754 non-null  int64  \n",
      " 30  Taxonomy Path          59754 non-null  object \n",
      " 31  Page Area              59754 non-null  int64  \n",
      " 32  Relative Area(%)       59754 non-null  float64\n",
      " 33  Counter                59754 non-null  int64  \n",
      " 34  color                  59420 non-null  object \n",
      " 35  color.1                59420 non-null  float64\n",
      " 36  intensity              59420 non-null  float64\n",
      " 37  saturation             59420 non-null  float64\n",
      " 38  hue                    59420 non-null  float64\n",
      " 39  ValenceCAT             59754 non-null  object \n",
      " 40  Valence#               59754 non-null  float64\n",
      " 41  Valence#ABS            59754 non-null  float64\n",
      " 42  Arousal                59754 non-null  float64\n",
      " 43  Framing                59409 non-null  object \n",
      "dtypes: float64(12), int64(10), object(22)\n",
      "memory usage: 20.5+ MB\n",
      "None\n"
     ]
    }
   ],
   "source": [
    "df_process = df_cleaned_origin.merge(\n",
    "    df_cleaned_framing[['Region ID', 'Framing']],\n",
    "    on='Region ID',\n",
    "    how='left'\n",
    ")\n",
    "\n",
    "print(df_process.info())"
   ]
  },
  {
   "cell_type": "code",
   "execution_count": 22,
   "id": "768fbc6a-9097-4fae-be0a-3041e4acff35",
   "metadata": {
    "tags": []
   },
   "outputs": [],
   "source": [
    "# Filter rows where the 'Uploaded to MAST' column is not null, and creates a new DataFrame. \n",
    "# Since the MAST file includes both processed and unprocessed files, having information in the 'Uploaded to MAST' column indicates that these are files that have already been uploaded to MAST.\n",
    "df_mast = df2[df2['Uploaded to MAST'].notnull()]"
   ]
  },
  {
   "cell_type": "code",
   "execution_count": 23,
   "id": "a7b926e2-06f9-4c34-822f-ad4667ac1f9c",
   "metadata": {
    "tags": []
   },
   "outputs": [
    {
     "data": {
      "text/plain": [
       "<bound method DataFrame.info of      Unnamed: 0                Document directory          Format  \\\n",
       "0            NC  441b7c23852b1a05d8460b14a56a4ae4        Webcomic   \n",
       "1            NC                               NaN   Graphic Novel   \n",
       "2            NC                               NaN        Webcomic   \n",
       "3            SG                               NaN   Graphic Novel   \n",
       "4            NC                               NaN     Short story   \n",
       "...         ...                               ...             ...   \n",
       "1025      NC/SL                               NaN  Comic magazine   \n",
       "1026      NC/SL                               NaN      Comic book   \n",
       "1027      NC/SL                               NaN      Comic book   \n",
       "1028      NC/SL                               NaN  Comic magazine   \n",
       "1029      NC/SL                               NaN  Comic magazine   \n",
       "\n",
       "                      Comic_title Untranslated Title Source Title  \\\n",
       "0               Princesha Argjiro                NaN          NaN   \n",
       "1           The Yankee Comandante                NaN          NaN   \n",
       "2                  The Dream Book                NaN        SMAC!   \n",
       "3           The Legend of Tteryel                NaN          NaN   \n",
       "4           Identidade Abandonada                NaN  AfriComics!   \n",
       "...                           ...                ...          ...   \n",
       "1025  Golden Tiger VS. Shark Finn                NaN    ComicUp-4   \n",
       "1026                 Paper Angels                NaN          NaN   \n",
       "1027                        Mhare                NaN          NaN   \n",
       "1028                    Razor-man                NaN          NaN   \n",
       "1029             Ngoda Chronicles                NaN    ComicUp-1   \n",
       "\n",
       "                             Author Translator Author_origin  \\\n",
       "0                        Bena Grëmi        NaN       Albania   \n",
       "1                       Gani Yakupi        NaN       Albania   \n",
       "2                           es deux        NaN       Albania   \n",
       "3                 Marika Mangaka DZ        NaN       Algeria   \n",
       "4     Anita Sambanje & Kiala Miguel        NaN            \\n   \n",
       "...                             ...        ...           ...   \n",
       "1025                 James Magwenzi        NaN      Zimbabwe   \n",
       "1026                   Kudzai Gumbo        NaN      Zimbabwe   \n",
       "1027          Tinodiwa Zambe Makoni        NaN      Zimbabwe   \n",
       "1028        Bill MasUnited Kingdomu        NaN      Zimbabwe   \n",
       "1029              Tafadzwa Tarumbwa        NaN      Zimbabwe   \n",
       "\n",
       "     Author_country (current)  ... 2.4: ICS 2.5: Character Emotions  \\\n",
       "0                     Albania  ...       KH                     NaN   \n",
       "1                     Albania  ...      NaN                      LP   \n",
       "2                     Albania  ...      NaN                     NaN   \n",
       "3                     Algeria  ...      NaN                     NaN   \n",
       "4                      Angola  ...      NaN                      OS   \n",
       "...                       ...  ...      ...                     ...   \n",
       "1025                 Zimbabwe  ...      NaN                     NaN   \n",
       "1026                 Zimbabwe  ...      NaN                     NaN   \n",
       "1027                 Zimbabwe  ...      NaN                     NaN   \n",
       "1028                 Zimbabwe  ...      NaN                     NaN   \n",
       "1029                 Zimbabwe  ...       PG                     NaN   \n",
       "\n",
       "     2.5.1 Panel Emotions 2.6 Panel Templates 2.7 Panel Borders 2.8 POV  \\\n",
       "0                      NC                 NC+                SG     NaN   \n",
       "1                     LZ+                 NC+                SG     NaN   \n",
       "2                     SD+                 NC+                SG     NaN   \n",
       "3                      XZ                 NC+               NaN     NaN   \n",
       "4                     JB*                 NC+                SG     NaN   \n",
       "...                   ...                 ...               ...     ...   \n",
       "1025                   LZ                  NC               NaN     NaN   \n",
       "1026                   XZ                 NC+               NaN     NaN   \n",
       "1027                   XZ                  NC                SG     NaN   \n",
       "1028                   XZ                 NC+               NaN     NaN   \n",
       "1029                   LZ                 NC+               NaN     NaN   \n",
       "\n",
       "     2.9 Onoma 3.1 Situation 3.2 Depth 3.3 Gesture  \n",
       "0           MM            DM       NaN          KY  \n",
       "1           MM            DM       RHE         NaN  \n",
       "2           MM           MaM       NaN          KY  \n",
       "3           MM           NaN       NaN         NaN  \n",
       "4           MM            DM       NaN         NaN  \n",
       "...        ...           ...       ...         ...  \n",
       "1025       NaN            DM       NaN         NaN  \n",
       "1026       NaN            DM       NaN         NaN  \n",
       "1027       NaN            DM       NaN         NaN  \n",
       "1028       NaN           NaN       NaN         NaN  \n",
       "1029       NaN            DM       NaN         NaN  \n",
       "\n",
       "[1030 rows x 53 columns]>"
      ]
     },
     "execution_count": 23,
     "metadata": {},
     "output_type": "execute_result"
    }
   ],
   "source": [
    "df_mast.info"
   ]
  },
  {
   "cell_type": "code",
   "execution_count": 24,
   "id": "9524a81e-b062-47f9-8457-de016b1c2a39",
   "metadata": {
    "tags": []
   },
   "outputs": [],
   "source": [
    "# Merge df_process with df_mast to add the '2.5.1 Panel Emotions' column\n",
    "df_process = pd.merge(\n",
    "    df_process, \n",
    "    df_mast[['Comic_title', '2.5.1 Panel Emotions']],  \n",
    "    left_on='Document Name',\n",
    "    right_on='Comic_title', \n",
    "    how='left'               \n",
    ")\n",
    "\n",
    "# Optionally, drop the 'Comic_title' column if it's no longer needed\n",
    "df_process.drop(columns=['Comic_title'], inplace=True)"
   ]
  },
  {
   "cell_type": "code",
   "execution_count": 25,
   "id": "18f08023-7bf7-4f3a-b8ad-10d2838f56e8",
   "metadata": {
    "tags": []
   },
   "outputs": [
    {
     "name": "stdout",
     "output_type": "stream",
     "text": [
      "<class 'pandas.core.frame.DataFrame'>\n",
      "Int64Index: 60301 entries, 0 to 60300\n",
      "Data columns (total 45 columns):\n",
      " #   Column                 Non-Null Count  Dtype  \n",
      "---  ------                 --------------  -----  \n",
      " 0   Project ID             60301 non-null  int64  \n",
      " 1   Project Name           60301 non-null  object \n",
      " 2   Document Name          60301 non-null  object \n",
      " 3   Global Region          60301 non-null  object \n",
      " 4   RegionSimplified       60301 non-null  object \n",
      " 5   Country                60301 non-null  object \n",
      " 6   Document Name.1        60301 non-null  object \n",
      " 7   Publication Date       60301 non-null  int64  \n",
      " 8   Publisher              53800 non-null  object \n",
      " 9   Format                 60301 non-null  object \n",
      " 10  CountryLang            60301 non-null  object \n",
      " 11  LanguageFinal          60301 non-null  object \n",
      " 12  Silent?                9622 non-null   object \n",
      " 13  Genre Simplified       58719 non-null  object \n",
      " 14  StyleDetail            60301 non-null  object \n",
      " 15  StyleBroad             60301 non-null  object \n",
      " 16  Audience               52761 non-null  object \n",
      " 17  Document Directory     60301 non-null  object \n",
      " 18  Page Number            60301 non-null  int64  \n",
      " 19  PageOrdinal            60301 non-null  int64  \n",
      " 20  Panel#                 60300 non-null  float64\n",
      " 21  ComicPanel#            60301 non-null  int64  \n",
      " 22  TotalPanels            60301 non-null  int64  \n",
      " 23  OrdinalPanel%          60301 non-null  float64\n",
      " 24  OrdinalPanel%Rounded2  60301 non-null  float64\n",
      " 25  Region ID              60301 non-null  int64  \n",
      " 26  Region Type            60301 non-null  object \n",
      " 27  Region Vertices        60301 non-null  object \n",
      " 28  Region Area            60301 non-null  float64\n",
      " 29  Annotation ID          60301 non-null  int64  \n",
      " 30  Taxonomy Path          60301 non-null  object \n",
      " 31  Page Area              60301 non-null  int64  \n",
      " 32  Relative Area(%)       60301 non-null  float64\n",
      " 33  Counter                60301 non-null  int64  \n",
      " 34  color                  59701 non-null  object \n",
      " 35  color.1                59701 non-null  float64\n",
      " 36  intensity              59701 non-null  float64\n",
      " 37  saturation             59701 non-null  float64\n",
      " 38  hue                    59701 non-null  float64\n",
      " 39  ValenceCAT             60301 non-null  object \n",
      " 40  Valence#               60301 non-null  float64\n",
      " 41  Valence#ABS            60301 non-null  float64\n",
      " 42  Arousal                60301 non-null  float64\n",
      " 43  Framing                59956 non-null  object \n",
      " 44  2.5.1 Panel Emotions   47024 non-null  object \n",
      "dtypes: float64(12), int64(10), object(23)\n",
      "memory usage: 21.2+ MB\n",
      "None\n"
     ]
    }
   ],
   "source": [
    "print(df_process.info())"
   ]
  },
  {
   "cell_type": "code",
   "execution_count": 26,
   "id": "3b2822f7-876e-41b3-b135-592ed8c1d04f",
   "metadata": {
    "tags": []
   },
   "outputs": [
    {
     "name": "stdout",
     "output_type": "stream",
     "text": [
      "Panel Number\n",
      "XZ    12374\n",
      "JB    10596\n",
      "SD     9377\n",
      "JW     8063\n",
      "LZ     6603\n",
      "NC       11\n",
      "Name: 2.5.1 Panel Emotions, dtype: int64\n"
     ]
    }
   ],
   "source": [
    "# Remove punctuation, spaces, and numbers from the '2.5.1 Panel Emotions' column and convert all values to uppercase\n",
    "df_process['2.5.1 Panel Emotions'] = df_process['2.5.1 Panel Emotions'].str.replace(r'[^\\w\\s]|[\\d]','', regex=True).str.replace(' ','').str.upper()\n",
    "\n",
    "# Calculate the frequency of each value in the '2.5.1 Panel Emotions' column\n",
    "emotions_counts = df_process['2.5.1 Panel Emotions'].value_counts()\n",
    "\n",
    "# Print the frequency counts\n",
    "print('Panel Number')\n",
    "print(emotions_counts)"
   ]
  },
  {
   "cell_type": "code",
   "execution_count": 27,
   "id": "f5f24ca0-6d10-43c1-b5c0-f10bd1c4154a",
   "metadata": {
    "tags": []
   },
   "outputs": [
    {
     "name": "stdout",
     "output_type": "stream",
     "text": [
      "Comics Number\n",
      "JB    158\n",
      "JW    150\n",
      "LZ    118\n",
      "NC      1\n",
      "SD    116\n",
      "XZ    157\n",
      "Name: Document Name, dtype: int64\n"
     ]
    }
   ],
   "source": [
    "# Count the number of unique 'Document Name'\n",
    "emotions_doc_count = df_process.groupby('2.5.1 Panel Emotions')['Document Name'].nunique()\n",
    "\n",
    "# Convert Series to string and remove column name\n",
    "emotions_doc_count_str = str(emotions_doc_count)\n",
    "emotions_doc_count_str = emotions_doc_count_str.replace('2.5.1 Panel Emotions\\n', '')\n",
    "\n",
    "# Display the count results\n",
    "print('Comics Number')\n",
    "print(emotions_doc_count_str)"
   ]
  },
  {
   "cell_type": "code",
   "execution_count": 28,
   "id": "704e4808-122f-447d-9482-443eddede40f",
   "metadata": {
    "tags": []
   },
   "outputs": [],
   "source": [
    "output_csv_path = '/Users/zhouxiaoyu/desktop/tintin/tintin.csv'\n",
    "df_tintin = df_process.to_csv(output_csv_path, index=False)"
   ]
  },
  {
   "cell_type": "markdown",
   "id": "533211b3-c47c-4fa2-8420-68ebb7cb70d1",
   "metadata": {
    "tags": []
   },
   "source": [
    "## **Corpus Design**"
   ]
  },
  {
   "cell_type": "code",
   "execution_count": 29,
   "id": "b0df8f64-ef26-4501-b3fc-516b54c3ba32",
   "metadata": {
    "tags": []
   },
   "outputs": [],
   "source": [
    "df_tintin = pd.read_csv('/Users/zhouxiaoyu/desktop/tintin/tintin.csv')"
   ]
  },
  {
   "cell_type": "code",
   "execution_count": 30,
   "id": "34974884-b765-4089-9724-a247f8882d40",
   "metadata": {
    "tags": []
   },
   "outputs": [],
   "source": [
    "# Remove leading and trailing whitespace from the 'Format' column\n",
    "df_tintin['Format'] = df_tintin['Format'].str.strip()"
   ]
  },
  {
   "cell_type": "code",
   "execution_count": 31,
   "id": "94446903-f977-4dfd-9e88-688251f6e09f",
   "metadata": {
    "tags": []
   },
   "outputs": [
    {
     "name": "stdout",
     "output_type": "stream",
     "text": [
      "\n",
      "Unique Document Name Counts for Format:\n",
      "Format\n",
      "Anthology        180\n",
      "Comic book       264\n",
      "Graphic Novel    129\n",
      "Short story      188\n",
      "Webcomic         144\n",
      "Name: Document Name, dtype: int64\n",
      "Missing values in Format: 0\n"
     ]
    }
   ],
   "source": [
    "# Define the categorical column to calculate\n",
    "categorical_column = 'Format'\n",
    "\n",
    "# Calculate the number of unique 'Document Name' in each category of 'Format'\n",
    "unique_counts = df_tintin.groupby(categorical_column)['Document Name'].nunique()\n",
    "print(f\"\\nUnique Document Name Counts for {categorical_column}:\")\n",
    "print(unique_counts)\n",
    "\n",
    "# Check for missing values in the 'Format' column\n",
    "missing_values = df_tintin[categorical_column].isnull().sum()\n",
    "print(f\"Missing values in {categorical_column}: {missing_values}\")"
   ]
  },
  {
   "cell_type": "code",
   "execution_count": 32,
   "id": "1cab5e26-e5e2-44dc-8196-9450e990e022",
   "metadata": {
    "tags": []
   },
   "outputs": [
    {
     "name": "stdout",
     "output_type": "stream",
     "text": [
      "Unique Document Names: 631\n"
     ]
    }
   ],
   "source": [
    "# Filter the data\n",
    "# Only include formats such as \"Comic book\", \"Short story\", and \"Anthology\"\n",
    "formats_to_include = [\"Comic book\", \"Short story\", \"Anthology\"]\n",
    "df_tintin_completed = df_tintin[df_tintin['Format'].isin(formats_to_include)]\n",
    "unique_document_names = df_tintin_completed['Document Name'].nunique()\n",
    "print(f'Unique Document Names: {unique_document_names}')"
   ]
  },
  {
   "cell_type": "code",
   "execution_count": 33,
   "id": "b5afec8e-226f-4f50-91fc-dcca8a5dad47",
   "metadata": {
    "tags": []
   },
   "outputs": [],
   "source": [
    "# Copy df_tintin\n",
    "df_tintin_copy = df_tintin.copy()\n",
    "\n",
    "# Save the processed DataFrame to a new CSV file\n",
    "df_tintin_completed.to_csv('/Users/zhouxiaoyu/desktop/tintin/tintin_completed.csv', index=False)"
   ]
  },
  {
   "cell_type": "code",
   "execution_count": 34,
   "id": "68831862-e4e7-4510-abb5-1e29f0fb6306",
   "metadata": {
    "tags": []
   },
   "outputs": [
    {
     "name": "stdout",
     "output_type": "stream",
     "text": [
      "\n",
      "Unique Document Name Counts for RegionSimplified:\n",
      "RegionSimplified\n",
      "Africa               144\n",
      "East Asia             68\n",
      "Europe               170\n",
      "North America         36\n",
      "Oceania               17\n",
      "South America         91\n",
      "SouthCentral Asia     52\n",
      "West Asia             55\n",
      "Name: Document Name, dtype: int64\n",
      "Missing values in RegionSimplified: 0\n"
     ]
    }
   ],
   "source": [
    "# Define the categorical column to calculate\n",
    "categorical_column = 'RegionSimplified'\n",
    "\n",
    "# Calculate the number of unique 'Document Name' in each category of 'RegionSimplified'\n",
    "unique_counts = df_tintin_completed.groupby(categorical_column)['Document Name'].nunique()\n",
    "print(f\"\\nUnique Document Name Counts for {categorical_column}:\")\n",
    "print(unique_counts)\n",
    "\n",
    "# Check for missing values in the 'RegionSimplified' column\n",
    "missing_values = df_tintin_completed[categorical_column].isnull().sum()\n",
    "print(f\"Missing values in {categorical_column}: {missing_values}\")"
   ]
  },
  {
   "cell_type": "code",
   "execution_count": 35,
   "id": "49b200fb-2eb2-4fdc-b020-19864af469d9",
   "metadata": {
    "tags": []
   },
   "outputs": [
    {
     "name": "stdout",
     "output_type": "stream",
     "text": [
      "\n",
      "Comics Number for RegionSimplified after processing:\n",
      "RegionSimplified\n",
      "Africa               144\n",
      "East Asia             68\n",
      "Europe               170\n",
      "South America         91\n",
      "SouthCentral Asia     52\n",
      "West Asia             55\n",
      "Name: Document Name, dtype: int64\n"
     ]
    }
   ],
   "source": [
    "# Create a copy of the 'RegionSimplified' column\n",
    "df_region = df_tintin_completed.copy()\n",
    "\n",
    "# Remove rows with 'Oceania' and 'North America' categories\n",
    "df_region = df_region[~df_region['RegionSimplified'].isin(['Oceania', 'North America'])]\n",
    "\n",
    "# Count the number of unique 'Document Name' for each 'RegionSimplified' category after processing\n",
    "comics_number_region = df_region.groupby('RegionSimplified')['Document Name'].nunique()\n",
    "print(\"\\nComics Number for RegionSimplified after processing:\")\n",
    "print(comics_number_region)"
   ]
  },
  {
   "cell_type": "code",
   "execution_count": 36,
   "id": "34535e12-5c56-4e8f-bf7f-a3528bd2360b",
   "metadata": {
    "tags": []
   },
   "outputs": [
    {
     "name": "stdout",
     "output_type": "stream",
     "text": [
      "<class 'pandas.core.frame.DataFrame'>\n",
      "Int64Index: 37313 entries, 0 to 60300\n",
      "Data columns (total 45 columns):\n",
      " #   Column                 Non-Null Count  Dtype  \n",
      "---  ------                 --------------  -----  \n",
      " 0   Project ID             37313 non-null  int64  \n",
      " 1   Project Name           37313 non-null  object \n",
      " 2   Document Name          37313 non-null  object \n",
      " 3   Global Region          37313 non-null  object \n",
      " 4   RegionSimplified       37313 non-null  object \n",
      " 5   Country                37313 non-null  object \n",
      " 6   Document Name.1        37313 non-null  object \n",
      " 7   Publication Date       37313 non-null  int64  \n",
      " 8   Publisher              33354 non-null  object \n",
      " 9   Format                 37313 non-null  object \n",
      " 10  CountryLang            37313 non-null  object \n",
      " 11  LanguageFinal          37313 non-null  object \n",
      " 12  Silent?                8640 non-null   object \n",
      " 13  Genre Simplified       36238 non-null  object \n",
      " 14  StyleDetail            37313 non-null  object \n",
      " 15  StyleBroad             37313 non-null  object \n",
      " 16  Audience               34125 non-null  object \n",
      " 17  Document Directory     37313 non-null  object \n",
      " 18  Page Number            37313 non-null  int64  \n",
      " 19  PageOrdinal            37313 non-null  int64  \n",
      " 20  Panel#                 37312 non-null  float64\n",
      " 21  ComicPanel#            37313 non-null  int64  \n",
      " 22  TotalPanels            37313 non-null  int64  \n",
      " 23  OrdinalPanel%          37313 non-null  float64\n",
      " 24  OrdinalPanel%Rounded2  37313 non-null  float64\n",
      " 25  Region ID              37313 non-null  int64  \n",
      " 26  Region Type            37313 non-null  object \n",
      " 27  Region Vertices        37313 non-null  object \n",
      " 28  Region Area            37313 non-null  float64\n",
      " 29  Annotation ID          37313 non-null  int64  \n",
      " 30  Taxonomy Path          37313 non-null  object \n",
      " 31  Page Area              37313 non-null  int64  \n",
      " 32  Relative Area(%)       37313 non-null  float64\n",
      " 33  Counter                37313 non-null  int64  \n",
      " 34  color                  36783 non-null  object \n",
      " 35  color.1                36783 non-null  float64\n",
      " 36  intensity              36783 non-null  float64\n",
      " 37  saturation             36783 non-null  float64\n",
      " 38  hue                    36783 non-null  float64\n",
      " 39  ValenceCAT             37313 non-null  object \n",
      " 40  Valence#               37313 non-null  float64\n",
      " 41  Valence#ABS            37313 non-null  float64\n",
      " 42  Arousal                37313 non-null  float64\n",
      " 43  Framing                37128 non-null  object \n",
      " 44  2.5.1 Panel Emotions   28976 non-null  object \n",
      "dtypes: float64(12), int64(10), object(23)\n",
      "memory usage: 13.1+ MB\n",
      "None\n"
     ]
    }
   ],
   "source": [
    "print(df_region.info())"
   ]
  },
  {
   "cell_type": "code",
   "execution_count": 37,
   "id": "50547548-b4ea-44d4-804f-5224620f557a",
   "metadata": {
    "tags": []
   },
   "outputs": [
    {
     "name": "stdout",
     "output_type": "stream",
     "text": [
      "<class 'pandas.core.frame.DataFrame'>\n",
      "Int64Index: 37313 entries, 0 to 60300\n",
      "Data columns (total 45 columns):\n",
      " #   Column                 Non-Null Count  Dtype  \n",
      "---  ------                 --------------  -----  \n",
      " 0   Project ID             37313 non-null  int64  \n",
      " 1   Project Name           37313 non-null  object \n",
      " 2   Document Name          37313 non-null  object \n",
      " 3   Global Region          37313 non-null  object \n",
      " 4   RegionSimplified       37313 non-null  object \n",
      " 5   Country                37313 non-null  object \n",
      " 6   Document Name.1        37313 non-null  object \n",
      " 7   Publication Date       37313 non-null  int64  \n",
      " 8   Publisher              33354 non-null  object \n",
      " 9   Format                 37313 non-null  object \n",
      " 10  CountryLang            37313 non-null  object \n",
      " 11  LanguageFinal          37313 non-null  object \n",
      " 12  Silent?                8640 non-null   object \n",
      " 13  Genre Simplified       36238 non-null  object \n",
      " 14  StyleDetail            37313 non-null  object \n",
      " 15  StyleBroad             37313 non-null  object \n",
      " 16  Audience               34125 non-null  object \n",
      " 17  Document Directory     37313 non-null  object \n",
      " 18  Page Number            37313 non-null  int64  \n",
      " 19  PageOrdinal            37313 non-null  int64  \n",
      " 20  Panel#                 37312 non-null  float64\n",
      " 21  ComicPanel#            37313 non-null  int64  \n",
      " 22  TotalPanels            37313 non-null  int64  \n",
      " 23  OrdinalPanel%          37313 non-null  float64\n",
      " 24  OrdinalPanel%Rounded2  37313 non-null  float64\n",
      " 25  Region ID              37313 non-null  int64  \n",
      " 26  Region Type            37313 non-null  object \n",
      " 27  Region Vertices        37313 non-null  object \n",
      " 28  Region Area            37313 non-null  float64\n",
      " 29  Annotation ID          37313 non-null  int64  \n",
      " 30  Taxonomy Path          37313 non-null  object \n",
      " 31  Page Area              37313 non-null  int64  \n",
      " 32  Relative Area(%)       37313 non-null  float64\n",
      " 33  Counter                37313 non-null  int64  \n",
      " 34  color                  36783 non-null  object \n",
      " 35  color.1                36783 non-null  float64\n",
      " 36  intensity              36783 non-null  float64\n",
      " 37  saturation             36783 non-null  float64\n",
      " 38  hue                    36783 non-null  float64\n",
      " 39  ValenceCAT             37313 non-null  object \n",
      " 40  Valence#               37313 non-null  float64\n",
      " 41  Valence#ABS            37313 non-null  float64\n",
      " 42  Arousal                37313 non-null  float64\n",
      " 43  Framing                37128 non-null  object \n",
      " 44  Annotator              28976 non-null  object \n",
      "dtypes: float64(12), int64(10), object(23)\n",
      "memory usage: 13.1+ MB\n",
      "None\n"
     ]
    }
   ],
   "source": [
    "# Rename the '2.5.1 Panel Emotions' column to 'Annotator' in df_region\n",
    "df_region.rename(columns={'2.5.1 Panel Emotions': 'Annotator'}, inplace=True)\n",
    "\n",
    "# Display the modified DataFrame to confirm the change\n",
    "print(df_region.info())"
   ]
  },
  {
   "cell_type": "code",
   "execution_count": null,
   "id": "4a9b81a3-5ddf-4bf5-be5e-6587a60332f7",
   "metadata": {},
   "outputs": [],
   "source": []
  },
  {
   "cell_type": "code",
   "execution_count": 38,
   "id": "4c0579a8-4600-4065-aa47-612fce3b9c58",
   "metadata": {},
   "outputs": [
    {
     "name": "stdout",
     "output_type": "stream",
     "text": [
      "Requirement already satisfied: statsmodels in /Applications/anaconda3/lib/python3.11/site-packages (0.14.0)\n",
      "Requirement already satisfied: numpy>=1.18 in /Applications/anaconda3/lib/python3.11/site-packages (from statsmodels) (1.24.3)\n",
      "Requirement already satisfied: scipy!=1.9.2,>=1.4 in /Applications/anaconda3/lib/python3.11/site-packages (from statsmodels) (1.10.1)\n",
      "Requirement already satisfied: pandas>=1.0 in /Applications/anaconda3/lib/python3.11/site-packages (from statsmodels) (1.5.3)\n",
      "Requirement already satisfied: patsy>=0.5.2 in /Applications/anaconda3/lib/python3.11/site-packages (from statsmodels) (0.5.3)\n",
      "Requirement already satisfied: packaging>=21.3 in /Applications/anaconda3/lib/python3.11/site-packages (from statsmodels) (23.0)\n",
      "Requirement already satisfied: python-dateutil>=2.8.1 in /Applications/anaconda3/lib/python3.11/site-packages (from pandas>=1.0->statsmodels) (2.8.2)\n",
      "Requirement already satisfied: pytz>=2020.1 in /Applications/anaconda3/lib/python3.11/site-packages (from pandas>=1.0->statsmodels) (2022.7)\n",
      "Requirement already satisfied: six in /Applications/anaconda3/lib/python3.11/site-packages (from patsy>=0.5.2->statsmodels) (1.16.0)\n",
      "Note: you may need to restart the kernel to use updated packages.\n"
     ]
    }
   ],
   "source": [
    "pip install statsmodels # Install the statsmodels library"
   ]
  },
  {
   "cell_type": "code",
   "execution_count": 39,
   "id": "10df9e7b-13f0-4626-8a37-a449dced2324",
   "metadata": {},
   "outputs": [],
   "source": [
    "# Import libraries for data visualization and statistical modeling.\n",
    "import matplotlib.pyplot as plt \n",
    "import seaborn as sns \n",
    "import statsmodels.api as sm "
   ]
  },
  {
   "cell_type": "code",
   "execution_count": 40,
   "id": "c8e3e311-02f6-4828-8f7b-1b614153c6c2",
   "metadata": {
    "tags": []
   },
   "outputs": [
    {
     "name": "stdout",
     "output_type": "stream",
     "text": [
      "Unique Document Name Distribution for Region: Africa\n",
      "StyleBroad Distribution and Percentages:\n",
      "StyleBroad\n",
      "Cartoony            36 (25.9%)\n",
      "Manga              26 (18.71%)\n",
      "RealExaggerated    71 (51.08%)\n",
      "Realistic            6 (4.32%)\n",
      "Name: Document Name, dtype: object\n",
      "\n",
      "==================================================\n",
      "\n",
      "\n",
      "Unique Document Name Distribution for Region: SouthCentral Asia\n",
      "StyleBroad Distribution and Percentages:\n",
      "StyleBroad\n",
      "Cartoony           16 (31.37%)\n",
      "Manga              12 (23.53%)\n",
      "RealExaggerated    19 (37.25%)\n",
      "Realistic            4 (7.84%)\n",
      "Name: Document Name, dtype: object\n",
      "\n",
      "==================================================\n",
      "\n",
      "\n",
      "Unique Document Name Distribution for Region: East Asia\n",
      "StyleBroad Distribution and Percentages:\n",
      "StyleBroad\n",
      "Cartoony             6 (8.82%)\n",
      "Manga              37 (54.41%)\n",
      "RealExaggerated    13 (19.12%)\n",
      "Realistic          12 (17.65%)\n",
      "Name: Document Name, dtype: object\n",
      "\n",
      "==================================================\n",
      "\n",
      "\n",
      "Unique Document Name Distribution for Region: Europe\n",
      "StyleBroad Distribution and Percentages:\n",
      "StyleBroad\n",
      "Alternative        24 (14.29%)\n",
      "Cartoony           25 (14.88%)\n",
      "Manga              23 (13.69%)\n",
      "RealExaggerated    50 (29.76%)\n",
      "Realistic          46 (27.38%)\n",
      "Name: Document Name, dtype: object\n",
      "\n",
      "==================================================\n",
      "\n",
      "\n",
      "Unique Document Name Distribution for Region: West Asia\n",
      "StyleBroad Distribution and Percentages:\n",
      "StyleBroad\n",
      "Alternative           2 (3.7%)\n",
      "Cartoony           14 (25.93%)\n",
      "Manga              31 (57.41%)\n",
      "RealExaggerated     7 (12.96%)\n",
      "Name: Document Name, dtype: object\n",
      "\n",
      "==================================================\n",
      "\n",
      "\n",
      "Unique Document Name Distribution for Region: South America\n",
      "StyleBroad Distribution and Percentages:\n",
      "StyleBroad\n",
      "Cartoony             8 (8.99%)\n",
      "Manga               34 (38.2%)\n",
      "RealExaggerated    31 (34.83%)\n",
      "Realistic          16 (17.98%)\n",
      "Name: Document Name, dtype: object\n",
      "\n",
      "==================================================\n",
      "\n",
      "\n"
     ]
    }
   ],
   "source": [
    "# Create a copy of the df_region DataFrame\n",
    "df_region_copy = df_region.copy()\n",
    "\n",
    "# Reduce 'Document Name' counts by 5 for 'Manga' and 5 for 'RealExaggerated'\n",
    "style_reductions = {'Manga': 5, 'RealExaggerated': 6}\n",
    "\n",
    "for style, reduction_count in style_reductions.items():\n",
    "    # Get unique 'Document Name' for the specific style\n",
    "    unique_documents = df_region_copy[df_region_copy['StyleBroad'] == style]['Document Name'].unique()\n",
    "    # Randomly select reduction_count number of unique 'Document Name'\n",
    "    documents_to_drop = pd.Series(unique_documents).sample(reduction_count).tolist()\n",
    "    # Drop rows corresponding to these 'Document Name'\n",
    "    df_region_copy = df_region_copy[~df_region_copy['Document Name'].isin(documents_to_drop)]\n",
    "\n",
    "\n",
    "columns_to_check = ['StyleBroad']\n",
    "\n",
    "# Print the unique Document Name distribution for each style within each region\n",
    "for region in df_region_copy['RegionSimplified'].unique():\n",
    "    print(f\"Unique Document Name Distribution for Region: {region}\")\n",
    "    sub_df = df_region_copy[df_region_copy['RegionSimplified'] == region]\n",
    "\n",
    "    for column in columns_to_check:\n",
    "        unique_document_counts = sub_df.groupby(column)['Document Name'].nunique()\n",
    "        total_unique_documents = unique_document_counts.sum()\n",
    "        subcategory_percentages = (unique_document_counts / total_unique_documents * 100).round(2)\n",
    "        subcategory_combined = unique_document_counts.astype(str) + \" (\" + subcategory_percentages.astype(str) + \"%)\"\n",
    "        print(f\"{column} Distribution and Percentages:\")\n",
    "        print(subcategory_combined)\n",
    "\n",
    "    print(\"\\n\" + \"=\" * 50 + \"\\n\\n\")"
   ]
  },
  {
   "cell_type": "code",
   "execution_count": 41,
   "id": "9021032c-8c84-4969-8c30-9a4bb22992b0",
   "metadata": {
    "tags": []
   },
   "outputs": [],
   "source": [
    "# Define the sample size for each region\n",
    "region_sample_sizes = {\n",
    "    'Africa': 65,\n",
    "    'East Asia': 65,\n",
    "    'Europe': 65,\n",
    "    'South America': 65,\n",
    "    'SouthCentral Asia': 50,\n",
    "    'West Asia': 50\n",
    "}\n",
    "\n",
    "# Initialize an empty DataFrame to store the sampled results\n",
    "df_region_sample = pd.DataFrame()\n",
    "\n",
    "# Perform random sampling for each region\n",
    "for region, sample_size in region_sample_sizes.items():\n",
    "    # Get the sub DataFrame for the current region\n",
    "    sub_df = df_region_copy[df_region_copy['RegionSimplified'] == region]\n",
    "    \n",
    "    # Get unique Document Names after removing duplicates\n",
    "    unique_documents = sub_df.drop_duplicates(subset=['Document Name'])\n",
    "    \n",
    "    # Adjust the sample size if the actual number of unique Document Names is less than required\n",
    "    if len(unique_documents) < sample_size:\n",
    "        print(f\"Warning: The number of unique Document Names in region {region} is less than the required sample size of {sample_size}. Actual number: {len(unique_documents)}\")\n",
    "        sample_size = len(unique_documents)\n",
    "    \n",
    "    # Randomly sample unique Document Names\n",
    "    sampled_documents = unique_documents.sample(n=sample_size, random_state=1, replace=False)\n",
    "    \n",
    "    # Append the sampled results to the result DataFrame\n",
    "    df_region_sample = pd.concat([df_region_sample, sub_df[sub_df['Document Name'].isin(sampled_documents['Document Name'])]])"
   ]
  },
  {
   "cell_type": "code",
   "execution_count": 42,
   "id": "cbfd5803-6746-41a6-9f1b-a55ecd3a6b09",
   "metadata": {
    "tags": []
   },
   "outputs": [
    {
     "name": "stdout",
     "output_type": "stream",
     "text": [
      "Unique Document Name Distribution for Region: Africa\n",
      "==================================================\n",
      "Genre Simplified Distribution and Percentages:\n",
      "Genre Simplified\n",
      "Action Adventure          4 (7.02%)\n",
      "Drama                   13 (22.81%)\n",
      "Fantasy                  6 (10.53%)\n",
      "Historical adventure      1 (1.75%)\n",
      "Horror                    3 (5.26%)\n",
      "Humor                     1 (1.75%)\n",
      "Political               16 (28.07%)\n",
      "Science fiction           4 (7.02%)\n",
      "Superhero                8 (14.04%)\n",
      "Supernatural              1 (1.75%)\n",
      "Name: Document Name, dtype: object\n",
      "\n",
      "\n",
      "StyleBroad Distribution and Percentages:\n",
      "StyleBroad\n",
      "Cartoony           14 (21.54%)\n",
      "Manga              12 (18.46%)\n",
      "RealExaggerated    36 (55.38%)\n",
      "Realistic            3 (4.62%)\n",
      "Name: Document Name, dtype: object\n",
      "\n",
      "\n",
      "\n",
      "==================================================\n",
      "\n",
      "\n",
      "Unique Document Name Distribution for Region: East Asia\n",
      "==================================================\n",
      "Genre Simplified Distribution and Percentages:\n",
      "Genre Simplified\n",
      "Action Adventure          6 (10.0%)\n",
      "Autobiography             1 (1.67%)\n",
      "Childrens                 1 (1.67%)\n",
      "Drama                   14 (23.33%)\n",
      "Fantasy                 16 (26.67%)\n",
      "Historical adventure      1 (1.67%)\n",
      "Historical fiction        1 (1.67%)\n",
      "Horror                     3 (5.0%)\n",
      "Humor                     1 (1.67%)\n",
      "Mythology               10 (16.67%)\n",
      "Romance                   2 (3.33%)\n",
      "Science fiction           1 (1.67%)\n",
      "Superhero                  3 (5.0%)\n",
      "Name: Document Name, dtype: object\n",
      "\n",
      "\n",
      "StyleBroad Distribution and Percentages:\n",
      "StyleBroad\n",
      "Cartoony             5 (7.69%)\n",
      "Manga              35 (53.85%)\n",
      "RealExaggerated     13 (20.0%)\n",
      "Realistic          12 (18.46%)\n",
      "Name: Document Name, dtype: object\n",
      "\n",
      "\n",
      "\n",
      "==================================================\n",
      "\n",
      "\n",
      "Unique Document Name Distribution for Region: Europe\n",
      "==================================================\n",
      "Genre Simplified Distribution and Percentages:\n",
      "Genre Simplified\n",
      "Action Adventure         9 (13.85%)\n",
      "Autobiography             1 (1.54%)\n",
      "Biography                 1 (1.54%)\n",
      "Comedy                    2 (3.08%)\n",
      "Drama                     6 (9.23%)\n",
      "Fantasy                 14 (21.54%)\n",
      "Historical adventure      1 (1.54%)\n",
      "Historical fiction        1 (1.54%)\n",
      "History                   2 (3.08%)\n",
      "Horror                    3 (4.62%)\n",
      "Humor                     2 (3.08%)\n",
      "Independent               6 (9.23%)\n",
      "Science fiction          9 (13.85%)\n",
      "Superhero                 5 (7.69%)\n",
      "Thriller                  2 (3.08%)\n",
      "Western                   1 (1.54%)\n",
      "Name: Document Name, dtype: object\n",
      "\n",
      "\n",
      "StyleBroad Distribution and Percentages:\n",
      "StyleBroad\n",
      "Alternative         8 (12.31%)\n",
      "Cartoony            8 (12.31%)\n",
      "Manga               8 (12.31%)\n",
      "RealExaggerated    16 (24.62%)\n",
      "Realistic          25 (38.46%)\n",
      "Name: Document Name, dtype: object\n",
      "\n",
      "\n",
      "\n",
      "==================================================\n",
      "\n",
      "\n",
      "Unique Document Name Distribution for Region: South America\n",
      "==================================================\n",
      "Genre Simplified Distribution and Percentages:\n",
      "Genre Simplified\n",
      "Action Adventure    14 (21.54%)\n",
      "Drama               18 (27.69%)\n",
      "Fantasy               6 (9.23%)\n",
      "History               2 (3.08%)\n",
      "Horror                1 (1.54%)\n",
      "Humor                 3 (4.62%)\n",
      "Independent           1 (1.54%)\n",
      "Mythology             1 (1.54%)\n",
      "Science fiction       6 (9.23%)\n",
      "Superhero             5 (7.69%)\n",
      "Supernatural          5 (7.69%)\n",
      "War                   2 (3.08%)\n",
      "Western               1 (1.54%)\n",
      "Name: Document Name, dtype: object\n",
      "\n",
      "\n",
      "StyleBroad Distribution and Percentages:\n",
      "StyleBroad\n",
      "Cartoony             6 (9.23%)\n",
      "Manga               26 (40.0%)\n",
      "RealExaggerated    18 (27.69%)\n",
      "Realistic          15 (23.08%)\n",
      "Name: Document Name, dtype: object\n",
      "\n",
      "\n",
      "\n",
      "==================================================\n",
      "\n",
      "\n",
      "Unique Document Name Distribution for Region: SouthCentral Asia\n",
      "==================================================\n",
      "Genre Simplified Distribution and Percentages:\n",
      "Genre Simplified\n",
      "Action Adventure     8 (16.0%)\n",
      "Drama               10 (20.0%)\n",
      "Fantasy              6 (12.0%)\n",
      "Horror              15 (30.0%)\n",
      "Mythology             2 (4.0%)\n",
      "Science fiction       1 (2.0%)\n",
      "Superhero            6 (12.0%)\n",
      "Supernatural          1 (2.0%)\n",
      "Thriller              1 (2.0%)\n",
      "Name: Document Name, dtype: object\n",
      "\n",
      "\n",
      "StyleBroad Distribution and Percentages:\n",
      "StyleBroad\n",
      "Cartoony           16 (32.0%)\n",
      "Manga              12 (24.0%)\n",
      "RealExaggerated    18 (36.0%)\n",
      "Realistic            4 (8.0%)\n",
      "Name: Document Name, dtype: object\n",
      "\n",
      "\n",
      "\n",
      "==================================================\n",
      "\n",
      "\n",
      "Unique Document Name Distribution for Region: West Asia\n",
      "==================================================\n",
      "Genre Simplified Distribution and Percentages:\n",
      "Genre Simplified\n",
      "Action Adventure     5 (10.0%)\n",
      "Drama               24 (48.0%)\n",
      "Fantasy              6 (12.0%)\n",
      "Humor                 1 (2.0%)\n",
      "Independent           1 (2.0%)\n",
      "Non-fiction           3 (6.0%)\n",
      "Political            7 (14.0%)\n",
      "Science fiction       1 (2.0%)\n",
      "Supernatural          2 (4.0%)\n",
      "Name: Document Name, dtype: object\n",
      "\n",
      "\n",
      "StyleBroad Distribution and Percentages:\n",
      "StyleBroad\n",
      "Alternative          2 (4.0%)\n",
      "Cartoony           13 (26.0%)\n",
      "Manga              28 (56.0%)\n",
      "RealExaggerated     7 (14.0%)\n",
      "Name: Document Name, dtype: object\n",
      "\n",
      "\n",
      "\n",
      "==================================================\n",
      "\n",
      "\n"
     ]
    }
   ],
   "source": [
    "import pandas as pd\n",
    "\n",
    "# Define the columns to check\n",
    "columns_to_check = ['Genre Simplified', 'StyleBroad']\n",
    "\n",
    "# Print the unique Document Name distribution for each region\n",
    "for region in df_region_sample['RegionSimplified'].unique():\n",
    "    print(f\"Unique Document Name Distribution for Region: {region}\")\n",
    "    print(\"=\" * 50)\n",
    "    sub_df = df_region_sample[df_region_sample['RegionSimplified']== region]\n",
    "\n",
    "    for column in columns_to_check:\n",
    "        # Calculate the number of unique Document Names for each subcategory\n",
    "        unique_document_counts = sub_df.groupby(column)['Document Name'].nunique()\n",
    "        total_unique_documents = unique_document_counts.sum()\n",
    "\n",
    "        # Calculate the percentage for each subcategory\n",
    "        subcategory_percentages = (unique_document_counts / total_unique_documents * 100).round(2)\n",
    "\n",
    "        # Combine unique counts and percentages\n",
    "        subcategory_combined = unique_document_counts.astype(str) + \" (\" + subcategory_percentages.astype(str) + \"%)\"\n",
    "        print(f\"{column} Distribution and Percentages:\")\n",
    "        print(subcategory_combined)\n",
    "        print(\"\\n\")\n",
    "\n",
    "    print(\"\\n\" + \"=\" * 50 + \"\\n\\n\")"
   ]
  },
  {
   "cell_type": "code",
   "execution_count": 43,
   "id": "956d5f06-df0a-46d5-81bf-3079c4655c90",
   "metadata": {
    "tags": []
   },
   "outputs": [
    {
     "name": "stdout",
     "output_type": "stream",
     "text": [
      "<class 'pandas.core.frame.DataFrame'>\n",
      "Int64Index: 23976 entries, 200 to 60300\n",
      "Data columns (total 45 columns):\n",
      " #   Column                 Non-Null Count  Dtype  \n",
      "---  ------                 --------------  -----  \n",
      " 0   Project ID             23976 non-null  int64  \n",
      " 1   Project Name           23976 non-null  object \n",
      " 2   Document Name          23976 non-null  object \n",
      " 3   Global Region          23976 non-null  object \n",
      " 4   RegionSimplified       23976 non-null  object \n",
      " 5   Country                23976 non-null  object \n",
      " 6   Document Name.1        23976 non-null  object \n",
      " 7   Publication Date       23976 non-null  int64  \n",
      " 8   Publisher              22072 non-null  object \n",
      " 9   Format                 23976 non-null  object \n",
      " 10  CountryLang            23976 non-null  object \n",
      " 11  LanguageFinal          23976 non-null  object \n",
      " 12  Silent?                6043 non-null   object \n",
      " 13  Genre Simplified       23188 non-null  object \n",
      " 14  StyleDetail            23976 non-null  object \n",
      " 15  StyleBroad             23976 non-null  object \n",
      " 16  Audience               22390 non-null  object \n",
      " 17  Document Directory     23976 non-null  object \n",
      " 18  Page Number            23976 non-null  int64  \n",
      " 19  PageOrdinal            23976 non-null  int64  \n",
      " 20  Panel#                 23976 non-null  float64\n",
      " 21  ComicPanel#            23976 non-null  int64  \n",
      " 22  TotalPanels            23976 non-null  int64  \n",
      " 23  OrdinalPanel%          23976 non-null  float64\n",
      " 24  OrdinalPanel%Rounded2  23976 non-null  float64\n",
      " 25  Region ID              23976 non-null  int64  \n",
      " 26  Region Type            23976 non-null  object \n",
      " 27  Region Vertices        23976 non-null  object \n",
      " 28  Region Area            23976 non-null  float64\n",
      " 29  Annotation ID          23976 non-null  int64  \n",
      " 30  Taxonomy Path          23976 non-null  object \n",
      " 31  Page Area              23976 non-null  int64  \n",
      " 32  Relative Area(%)       23976 non-null  float64\n",
      " 33  Counter                23976 non-null  int64  \n",
      " 34  color                  23573 non-null  object \n",
      " 35  color.1                23573 non-null  float64\n",
      " 36  intensity              23573 non-null  float64\n",
      " 37  saturation             23573 non-null  float64\n",
      " 38  hue                    23573 non-null  float64\n",
      " 39  ValenceCAT             23976 non-null  object \n",
      " 40  Valence#               23976 non-null  float64\n",
      " 41  Valence#ABS            23976 non-null  float64\n",
      " 42  Arousal                23976 non-null  float64\n",
      " 43  Framing                23869 non-null  object \n",
      " 44  Annotator              18198 non-null  object \n",
      "dtypes: float64(12), int64(10), object(23)\n",
      "memory usage: 8.4+ MB\n",
      "None\n"
     ]
    }
   ],
   "source": [
    "print(df_region_sample.info())"
   ]
  },
  {
   "cell_type": "code",
   "execution_count": 44,
   "id": "e42c4f6b-d5fd-400f-ade3-1e47e67cec24",
   "metadata": {
    "tags": []
   },
   "outputs": [
    {
     "data": {
      "image/png": "[encoded data removed]",
      "text/plain": [
       "<Figure size 1800x1200 with 4 Axes>"
      ]
     },
     "metadata": {},
     "output_type": "display_data"
    }
   ],
   "source": [
    "import pandas as pd\n",
    "import matplotlib.pyplot as plt\n",
    "import seaborn as sns\n",
    "\n",
    "# Set visual style\n",
    "sns.set(style=\"whitegrid\")\n",
    "\n",
    "# Calculate the number of unique comics for each category within each RegionSimplified\n",
    "region_genre_comics_count = df_region_sample.groupby(['RegionSimplified', 'Genre Simplified'])['Document Name'].nunique().unstack().fillna(0)\n",
    "region_style_comics_count = df_region_sample.groupby(['RegionSimplified', 'StyleBroad'])['Document Name'].nunique().unstack().fillna(0)\n",
    "region_audience_comics_count = df_region_sample.groupby(['RegionSimplified', 'Audience'])['Document Name'].nunique().unstack().fillna(0)\n",
    "region_annotator_comics_count = df_region_sample.groupby(['RegionSimplified', 'Annotator'])['Document Name'].nunique().unstack().fillna(0)\n",
    "\n",
    "# Prepare the figure\n",
    "regions = df_region_sample['RegionSimplified'].unique()\n",
    "fig, axes = plt.subplots(nrows=2, ncols=2, figsize=(18, 12))\n",
    "fig.suptitle('Subcategories Distribution Across Regions', fontsize=16, y=0.95)\n",
    "\n",
    "# Distribution of Genre Simplified\n",
    "genre_percentages = region_genre_comics_count.div(region_genre_comics_count.sum(axis=1), axis=0)\n",
    "genre_percentages.plot(kind='bar', stacked=True, ax=axes[0, 0], colormap='tab20')\n",
    "axes[0, 0].set_title(\"Genre Simplified Distribution by Region\")\n",
    "axes[0, 0].set_xlabel(\"RegionSimplified\")\n",
    "axes[0, 0].set_ylabel(\"Percentage\")\n",
    "axes[0, 0].legend(title=\"Genre Simplified\", bbox_to_anchor=(1.05, 1), loc='upper left')\n",
    "\n",
    "# # Distribution of StyleBroad\n",
    "style_percentages = region_style_comics_count.div(region_style_comics_count.sum(axis=1), axis=0)\n",
    "style_percentages.plot(kind='bar', stacked=True, ax=axes[0, 1], colormap='viridis')\n",
    "axes[0, 1].set_title(\"StyleBroad Distribution by Region\")\n",
    "axes[0, 1].set_xlabel(\"RegionSimplified\")\n",
    "axes[0, 1].set_ylabel(\"Percentage\")\n",
    "axes[0, 1].legend(title=\"StyleBroad\", bbox_to_anchor=(1.05, 1), loc='upper left')\n",
    "\n",
    "# Audience \n",
    "audience_percentages = region_audience_comics_count.div(region_audience_comics_count.sum(axis=1), axis=0)\n",
    "audience_percentages.plot(kind='bar', stacked=True, ax=axes[1, 0], colormap='coolwarm')\n",
    "axes[1, 0].set_title(\"Audience Distribution by Region\")\n",
    "axes[1, 0].set_xlabel(\"RegionSimplified\")\n",
    "axes[1, 0].set_ylabel(\"Percentage\")\n",
    "axes[1, 0].legend(title=\"Audience\", bbox_to_anchor=(1.05, 1), loc='upper left')\n",
    "\n",
    "# Annotator\n",
    "annotator_percentages = region_annotator_comics_count.div(region_annotator_comics_count.sum(axis=1), axis=0)\n",
    "annotator_percentages.plot(kind='bar', stacked=True, ax=axes[1, 1], colormap='cubehelix')\n",
    "axes[1, 1].set_title(\"Annotator Distribution by Region\")\n",
    "axes[1, 1].set_xlabel(\"RegionSimplified\")\n",
    "axes[1, 1].set_ylabel(\"Percentage\")\n",
    "axes[1, 1].legend(title=\"Annotator\", bbox_to_anchor=(1.05, 1), loc='upper left')\n",
    "\n",
    "# Adjust the layout\n",
    "plt.tight_layout(rect=[0, 0, 0.85, 0.92])  # 调整矩形以适应顶部的标题\n",
    "\n",
    "plt.show()"
   ]
  },
  {
   "cell_type": "code",
   "execution_count": 45,
   "id": "a4d82f2e-93ca-4bce-88e0-ff6005df4413",
   "metadata": {},
   "outputs": [
    {
     "name": "stdout",
     "output_type": "stream",
     "text": [
      "\n",
      "Genre Simplified - Categories with more than 50%:\n",
      "\n",
      "StyleBroad - Categories with more than 50%:\n",
      "Region: Africa, StyleBroad: RealExaggerated, Percentage: 55.38%\n",
      "Region: East Asia, StyleBroad: Manga, Percentage: 53.85%\n",
      "Region: West Asia, StyleBroad: Manga, Percentage: 56.00%\n",
      "\n",
      "Audience - Categories with more than 50%:\n",
      "Region: Africa, Audience: Teen-Adult, Percentage: 68.33%\n",
      "Region: East Asia, Audience: Everyone, Percentage: 50.85%\n",
      "Region: South America, Audience: Everyone, Percentage: 58.46%\n",
      "Region: SouthCentral Asia, Audience: Everyone, Percentage: 57.14%\n",
      "\n",
      "Annotator - Categories with more than 50%:\n"
     ]
    }
   ],
   "source": [
    "import pandas as pd\n",
    "\n",
    "# Calculate the number of unique comics for each category within each RegionSimplified\n",
    "region_genre_comics_count = df_region_sample.groupby(['RegionSimplified', 'Genre Simplified'])['Document Name'].nunique().unstack().fillna(0)\n",
    "region_style_comics_count = df_region_sample.groupby(['RegionSimplified', 'StyleBroad'])['Document Name'].nunique().unstack().fillna(0)\n",
    "region_audience_comics_count = df_region_sample.groupby(['RegionSimplified', 'Audience'])['Document Name'].nunique().unstack().fillna(0)\n",
    "region_annotator_comics_count = df_region_sample.groupby(['RegionSimplified', 'Annotator'])['Document Name'].nunique().unstack().fillna(0)\n",
    "\n",
    "# Calculate the percentage of each category within each region\n",
    "genre_percentages = region_genre_comics_count.div(region_genre_comics_count.sum(axis=1), axis=0) * 100\n",
    "style_percentages = region_style_comics_count.div(region_style_comics_count.sum(axis=1), axis=0) * 100\n",
    "audience_percentages = region_audience_comics_count.div(region_audience_comics_count.sum(axis=1), axis=0) * 100\n",
    "annotator_percentages = region_annotator_comics_count.div(region_annotator_comics_count.sum(axis=1), axis=0) * 100\n",
    "\n",
    "# Filter and print data with percentages over 50%\n",
    "def print_over_50(data, category_name):\n",
    "    print(f\"\\n{category_name} - Categories with more than 50%:\")\n",
    "    over_50 = data[data > 50].dropna(how='all')\n",
    "    for region in over_50.index:\n",
    "        for category in over_50.columns:\n",
    "            if pd.notna(over_50.loc[region, category]):\n",
    "                print(f\"Region: {region}, {category_name}: {category}, Percentage: {over_50.loc[region, category]:.2f}%\")\n",
    "\n",
    "# Output data with percentages over 50% for each category\n",
    "print_over_50(genre_percentages, 'Genre Simplified')\n",
    "print_over_50(style_percentages, 'StyleBroad')\n",
    "print_over_50(audience_percentages, 'Audience')\n",
    "print_over_50(annotator_percentages, 'Annotator')"
   ]
  },
  {
   "cell_type": "code",
   "execution_count": 46,
   "id": "f6815b68-94ea-4532-a218-5b057055645a",
   "metadata": {
    "tags": []
   },
   "outputs": [
    {
     "name": "stdout",
     "output_type": "stream",
     "text": [
      "Unique Document Name count by RegionSimplified:\n",
      "RegionSimplified\n",
      "Africa               65\n",
      "East Asia            65\n",
      "Europe               65\n",
      "South America        65\n",
      "SouthCentral Asia    50\n",
      "West Asia            50\n",
      "Name: Document Name, dtype: int64\n"
     ]
    }
   ],
   "source": [
    "import pandas as pd\n",
    "\n",
    "unique_docs_per_region = df_region_sample.groupby('RegionSimplified')['Document Name'].nunique()\n",
    "\n",
    "print(\"Unique Document Name count by RegionSimplified:\")\n",
    "print(unique_docs_per_region)\n"
   ]
  },
  {
   "cell_type": "code",
   "execution_count": 47,
   "id": "b5f16657-0c73-4516-9540-a8050df79856",
   "metadata": {
    "tags": []
   },
   "outputs": [
    {
     "name": "stdout",
     "output_type": "stream",
     "text": [
      "    RegionSimplified  Total_comics  Total_pages  Total_panels  Panels_per_page\n",
      "0             Africa            65          693          3110            4.488\n",
      "1          East Asia            65         1173          5076            4.327\n",
      "2             Europe            65          834          4335            5.198\n",
      "3      South America            65          893          4487            5.025\n",
      "4  SouthCentral Asia            50          792          3576            4.515\n",
      "5          West Asia            50          593          3392            5.720\n"
     ]
    }
   ],
   "source": [
    "import pandas as pd\n",
    "\n",
    "# Calculate the number of unique Document Names in each RegionSimplified (Total comics)\n",
    "total_comics = df_region_sample.groupby('RegionSimplified')['Document Name'].nunique()\n",
    "\n",
    "# Calculate the maximum Page Number for each Document Name in each RegionSimplified (Total pages)\n",
    "total_pages = df_region_sample.groupby(['RegionSimplified', 'Document Name'])['Page Number'].max().groupby('RegionSimplified').sum()\n",
    "\n",
    "# Calculate the count of Page Numbers in each RegionSimplified (Total panels)\n",
    "total_panels = df_region_sample.groupby('RegionSimplified')['Page Number'].count()\n",
    "\n",
    "# Combine the results into a single DataFrame\n",
    "result = pd.DataFrame({\n",
    "    'Total_comics': total_comics,\n",
    "    'Total_pages': total_pages,\n",
    "    'Total_panels': total_panels\n",
    "}).reset_index()\n",
    "\n",
    "# Calculate the number of Panels per Page\n",
    "result['Panels_per_page'] = (result['Total_panels'] / result['Total_pages']).round(3)\n",
    "\n",
    "# Round the result DataFrame to three decimal places\n",
    "result = result.round(3)\n",
    "\n",
    "# Display the result\n",
    "print(result)"
   ]
  },
  {
   "cell_type": "code",
   "execution_count": 48,
   "id": "0b72793e-0069-4377-9a72-00eff13f9965",
   "metadata": {
    "tags": []
   },
   "outputs": [
    {
     "name": "stdout",
     "output_type": "stream",
     "text": [
      "CSV file has been saved to: /Users/zhouxiaoyu/desktop/tintin/region_sample.csv\n"
     ]
    }
   ],
   "source": [
    "# Define the output CSV file path\n",
    "output_csv_path = '/Users/zhouxiaoyu/desktop/tintin/region_sample.csv'\n",
    "\n",
    "# Save the DataFrame to a new CSV file\n",
    "df_region_sample.to_csv(output_csv_path, index=False)\n",
    "\n",
    "print(f\"CSV file has been saved to: {output_csv_path}\")"
   ]
  }
 ],
 "metadata": {
  "kernelspec": {
   "display_name": "Python 3 (ipykernel)",
   "language": "python",
   "name": "python3"
  },
  "language_info": {
   "codemirror_mode": {
    "name": "ipython",
    "version": 3
   },
   "file_extension": ".py",
   "mimetype": "text/x-python",
   "name": "python",
   "nbconvert_exporter": "python",
   "pygments_lexer": "ipython3",
   "version": "3.11.4"
  }
 },
 "nbformat": 4,
 "nbformat_minor": 5
}
